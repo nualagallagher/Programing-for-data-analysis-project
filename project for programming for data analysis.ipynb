{
 "cells": [
  {
   "cell_type": "markdown",
   "metadata": {},
   "source": [
    "A synthesied data set in relation to the suicide death rates of males and females within Ireland from the year 2008 to 2018.  This data set will 100 point of data which will have five different variables including: year, gender, suicide rate, age, county. It is important to note the data generated in not factually correct and is randomly generated. Random numbers will be randomly generated between 300 and 550 for male suicide rates and between 50 and 150 for females suicide rates for the years between 2008-2018.These values are similar to actual death suicide rates in Ireland.\n",
    "\n",
    "Please see link below showing the actual suicde death rates recorded in Ireland over the last 18 years:\n",
    "(https://data.gov.ie/dataset/suicide-death-rates-by-year-sex-and-statistic/resource/50013e7a-ec8d-4676-b966-77ba22a23a56\n",
    "\n",
    "Therefore each time the script is run, different results will be produced."
   ]
  },
  {
   "cell_type": "code",
   "execution_count": 2,
   "metadata": {
    "collapsed": true
   },
   "outputs": [],
   "source": [
    "#import numpy as np\n",
    "import numpy as np\n",
    "\n",
    "#import pandas as pd\n",
    "import pandas as pd"
   ]
  },
  {
   "cell_type": "code",
   "execution_count": 11,
   "metadata": {},
   "outputs": [
    {
     "name": "stdout",
     "output_type": "stream",
     "text": [
      "2013\n"
     ]
    }
   ],
   "source": [
    "from numpy.random import randint\n",
    "# generate random integer values\n",
    "#https://machinelearningmastery.com/how-to-generate-random-numbers-in-python/\n",
    "\n",
    "#The x values will represent the year. In the datasets generated below, the last 10 years are being recorded as x values.\n",
    "#The x values will remain the same through out the dataset.\n",
    "a = [2008, 2009, 2010, 2011, 2012, 2013, 2014, 2015, 2016, 2017, 2018]\n",
    "resultsyear= random.choice(a)\n",
    "print(resultsyear)"
   ]
  },
  {
   "cell_type": "code",
   "execution_count": 4,
   "metadata": {},
   "outputs": [
    {
     "name": "stdout",
     "output_type": "stream",
     "text": [
      "[350 358 392 471 365 376 314 444 385 422]\n"
     ]
    }
   ],
   "source": [
    "# generate ten random numbers to represent the male suicide rate in Ireland for each year from 2008 to 2018.\n",
    "b = randint(300, 500, 10)\n",
    "print(b)"
   ]
  },
  {
   "cell_type": "code",
   "execution_count": 5,
   "metadata": {},
   "outputs": [
    {
     "name": "stdout",
     "output_type": "stream",
     "text": [
      "[ 65 142 117 135 104  61 144  57  57  89 123 118 132 121  82 113  85 112\n",
      " 113 113  97 113  80 132  98 104  98 126  62 147 144  55  94 127  60  95\n",
      "  60 117 148  50 125 101 124 103 112  97  77  80 112 140  53  65 136  63\n",
      " 102  73  96  80  76 123 149 133 135 135 105 133 122 139  84  94  60 109\n",
      " 127  56  86 138 141 114  86 133  92  78  54 115  78  87 139  59 143 144\n",
      " 139  99 138  87 135 131 149  53  56 147]\n"
     ]
    }
   ],
   "source": [
    "# generate 10 random to represent the male suicide rate in Ireland for each year from 2008 to 2018.\n",
    "c = randint(50, 150, 100)\n",
    "print(c)"
   ]
  },
  {
   "cell_type": "code",
   "execution_count": 6,
   "metadata": {},
   "outputs": [
    {
     "name": "stdout",
     "output_type": "stream",
     "text": [
      "[37 61 50 51 44 27 42 45 43 30 34 22 74 74 26 71 19 55 50 48 26 48 56 61 61\n",
      " 49 17 67 62 64 67 47 35 16 21 30 21 41 64 42 25 50 45 33 27 34 69 30 71 25\n",
      " 26 52 73 35 15 40 22 43 61 44 48 43 21 22 61 27 28 58 67 36 22 34 44 31 21\n",
      " 59 27 24 32 43 44 69 28 69 60 22 71 73 33 62 55 67 22 50 24 63 20 41 21 29]\n"
     ]
    }
   ],
   "source": [
    "age = randint(15, 75, 100)\n",
    "print(age)"
   ]
  },
  {
   "cell_type": "code",
   "execution_count": 7,
   "metadata": {},
   "outputs": [
    {
     "ename": "NameError",
     "evalue": "name 'random' is not defined",
     "output_type": "error",
     "traceback": [
      "\u001b[1;31m----------------------------------------------------\u001b[0m",
      "\u001b[1;31mNameError\u001b[0m          Traceback (most recent call last)",
      "\u001b[1;32m<ipython-input-7-3713b428abf9>\u001b[0m in \u001b[0;36m<module>\u001b[1;34m()\u001b[0m\n\u001b[0;32m      1\u001b[0m \u001b[0mcounty\u001b[0m \u001b[1;33m=\u001b[0m \u001b[1;33m[\u001b[0m\u001b[1;34m'Carlow'\u001b[0m\u001b[1;33m,\u001b[0m \u001b[1;34m'Cavan'\u001b[0m\u001b[1;33m,\u001b[0m \u001b[1;34m'Clare'\u001b[0m\u001b[1;33m,\u001b[0m \u001b[1;34m'Cork'\u001b[0m\u001b[1;33m,\u001b[0m \u001b[1;34m'Donegal'\u001b[0m\u001b[1;33m,\u001b[0m\u001b[1;34m'Dublin'\u001b[0m\u001b[1;33m,\u001b[0m\u001b[1;34m'Galway'\u001b[0m\u001b[1;33m,\u001b[0m \u001b[1;34m'Kerry'\u001b[0m\u001b[1;33m,\u001b[0m \u001b[1;34m'Kildare'\u001b[0m\u001b[1;33m,\u001b[0m \u001b[1;34m'Kilkenny'\u001b[0m\u001b[1;33m,\u001b[0m \u001b[1;34m'Laois'\u001b[0m\u001b[1;33m,\u001b[0m \u001b[1;34m'Leitrim'\u001b[0m\u001b[1;33m,\u001b[0m \u001b[1;34m'Limerick'\u001b[0m\u001b[1;33m,\u001b[0m \u001b[1;34m'Longford'\u001b[0m\u001b[1;33m,\u001b[0m \u001b[1;34m'Louth'\u001b[0m\u001b[1;33m,\u001b[0m \u001b[1;34m'Mayo'\u001b[0m\u001b[1;33m,\u001b[0m \u001b[1;34m'Meath'\u001b[0m\u001b[1;33m,\u001b[0m \u001b[1;34m'Monaghan'\u001b[0m\u001b[1;33m,\u001b[0m \u001b[1;34m'Offaly'\u001b[0m\u001b[1;33m,\u001b[0m \u001b[1;34m'Roscommon'\u001b[0m\u001b[1;33m,\u001b[0m \u001b[1;34m'Sligo'\u001b[0m\u001b[1;33m,\u001b[0m \u001b[1;34m'Tipperary'\u001b[0m\u001b[1;33m,\u001b[0m \u001b[1;34m'Waterford'\u001b[0m\u001b[1;33m,\u001b[0m \u001b[1;34m'Westmeath'\u001b[0m\u001b[1;33m,\u001b[0m \u001b[1;34m'Wexford'\u001b[0m\u001b[1;33m,\u001b[0m \u001b[1;34m'Wicklow'\u001b[0m\u001b[1;33m]\u001b[0m\u001b[1;33m\u001b[0m\u001b[0m\n\u001b[1;32m----> 2\u001b[1;33m \u001b[0mresultscounty\u001b[0m\u001b[1;33m=\u001b[0m \u001b[0mrandom\u001b[0m\u001b[1;33m.\u001b[0m\u001b[0mchoice\u001b[0m\u001b[1;33m(\u001b[0m\u001b[0mcounty\u001b[0m\u001b[1;33m)\u001b[0m\u001b[1;33m\u001b[0m\u001b[0m\n\u001b[0m\u001b[0;32m      3\u001b[0m \u001b[0mprint\u001b[0m\u001b[1;33m(\u001b[0m\u001b[0mresultscounty\u001b[0m\u001b[1;33m)\u001b[0m\u001b[1;33m\u001b[0m\u001b[0m\n",
      "\u001b[1;31mNameError\u001b[0m: name 'random' is not defined"
     ]
    }
   ],
   "source": [
    "county = ['Carlow', 'Cavan', 'Clare', 'Cork', 'Donegal','Dublin','Galway', 'Kerry', 'Kildare', 'Kilkenny', 'Laois', 'Leitrim', 'Limerick', 'Longford', 'Louth', 'Mayo', 'Meath', 'Monaghan', 'Offaly', 'Roscommon', 'Sligo', 'Tipperary', 'Waterford', 'Westmeath', 'Wexford', 'Wicklow']\n",
    "resultscounty= random.choice(county)\n",
    "print(resultscounty)"
   ]
  },
  {
   "cell_type": "code",
   "execution_count": 8,
   "metadata": {},
   "outputs": [
    {
     "name": "stdout",
     "output_type": "stream",
     "text": [
      "male\n"
     ]
    }
   ],
   "source": [
    "import random \n",
    "gender = ['male', 'female']\n",
    "results = random.choice(gender)\n",
    "print(results)"
   ]
  },
  {
   "cell_type": "code",
   "execution_count": 19,
   "metadata": {},
   "outputs": [
    {
     "name": "stdout",
     "output_type": "stream",
     "text": [
      "female Longford [15] 2008\n",
      "male Dublin [59] 2010\n",
      "female Limerick [50] 2011\n",
      "female Leitrim [22] 2010\n",
      "male Clare [29] 2010\n",
      "female Tipperary [64] 2017\n",
      "female Kildare [49] 2011\n",
      "female Cork [49] 2010\n",
      "male Waterford [70] 2010\n",
      "male Leitrim [24] 2015\n",
      "female Cavan [37] 2008\n",
      "male Dublin [36] 2008\n",
      "female Donegal [18] 2015\n",
      "female Monaghan [36] 2013\n",
      "male Carlow [40] 2014\n",
      "male Louth [71] 2013\n",
      "female Sligo [21] 2015\n",
      "male Carlow [51] 2018\n",
      "male Clare [16] 2010\n",
      "male Dublin [29] 2011\n",
      "female Wicklow [69] 2013\n",
      "female Offaly [54] 2010\n",
      "male Clare [59] 2011\n",
      "female Limerick [61] 2008\n",
      "female Kildare [37] 2016\n",
      "male Mayo [38] 2011\n",
      "male Cavan [22] 2018\n",
      "female Westmeath [19] 2017\n",
      "female Kerry [62] 2018\n",
      "female Cavan [29] 2008\n",
      "male Kilkenny [53] 2013\n",
      "female Roscommon [31] 2014\n",
      "female Dublin [37] 2018\n",
      "female Clare [21] 2016\n",
      "female Kildare [49] 2008\n",
      "female Kerry [49] 2015\n",
      "female Wicklow [58] 2018\n",
      "male Carlow [72] 2017\n",
      "female Longford [60] 2016\n",
      "female Meath [69] 2014\n",
      "female Carlow [72] 2018\n",
      "male Longford [47] 2015\n",
      "male Cavan [26] 2008\n",
      "female Donegal [48] 2010\n",
      "female Mayo [51] 2016\n",
      "male Tipperary [68] 2008\n",
      "male Limerick [32] 2008\n",
      "female Longford [55] 2018\n",
      "female Kerry [24] 2014\n",
      "male Mayo [32] 2018\n",
      "female Carlow [61] 2008\n",
      "male Cavan [69] 2017\n",
      "female Galway [49] 2013\n",
      "female Offaly [43] 2011\n",
      "female Wicklow [20] 2018\n",
      "male Roscommon [74] 2011\n",
      "female Kildare [50] 2008\n",
      "female Galway [60] 2014\n",
      "male Kilkenny [69] 2017\n",
      "female Mayo [16] 2011\n",
      "female Tipperary [26] 2008\n",
      "male Westmeath [69] 2017\n",
      "female Cork [15] 2011\n",
      "female Leitrim [23] 2014\n",
      "male Limerick [29] 2011\n",
      "male Monaghan [39] 2013\n",
      "female Dublin [46] 2012\n",
      "female Laois [65] 2018\n",
      "male Waterford [25] 2012\n",
      "female Sligo [23] 2008\n",
      "female Wexford [33] 2017\n",
      "female Kilkenny [20] 2013\n",
      "female Leitrim [45] 2018\n",
      "male Dublin [58] 2009\n",
      "female Leitrim [55] 2017\n",
      "female Leitrim [52] 2012\n",
      "female Louth [33] 2009\n",
      "male Kerry [46] 2014\n",
      "female Donegal [68] 2018\n",
      "female Wexford [17] 2013\n",
      "male Offaly [67] 2011\n",
      "male Kerry [37] 2013\n",
      "male Westmeath [63] 2012\n",
      "male Meath [54] 2012\n",
      "male Louth [66] 2016\n",
      "male Cavan [36] 2011\n",
      "female Offaly [73] 2012\n",
      "female Cavan [49] 2016\n",
      "female Cork [64] 2016\n",
      "male Carlow [48] 2012\n",
      "female Kilkenny [44] 2008\n",
      "female Monaghan [73] 2014\n",
      "male Louth [54] 2012\n",
      "male Offaly [72] 2009\n",
      "male Galway [70] 2018\n",
      "female Donegal [60] 2012\n",
      "male Cork [25] 2017\n",
      "male Sligo [30] 2011\n",
      "female Donegal [67] 2011\n",
      "female Cork [46] 2016\n"
     ]
    }
   ],
   "source": [
    "counter=0\n",
    "\n",
    "gender = ['male', 'female']\n",
    "county = ['Carlow', 'Cavan', 'Clare', 'Cork', 'Donegal','Dublin','Galway', 'Kerry', 'Kildare', 'Kilkenny', 'Laois', 'Leitrim', 'Limerick', 'Longford', 'Louth', 'Mayo', 'Meath', 'Monaghan', 'Offaly', 'Roscommon', 'Sligo', 'Tipperary', 'Waterford', 'Westmeath', 'Wexford', 'Wicklow']\n",
    "a = [2008, 2009, 2010, 2011, 2012, 2013, 2014, 2015, 2016, 2017, 2018]\n",
    "\n",
    "while counter < 100:\n",
    "    results = random.choice(gender)\n",
    "    resultscounty= random.choice(county)\n",
    "    resultsyear= random.choice(a)\n",
    "    age = randint(15, 75, 1)\n",
    "    counter += 1\n",
    "    print(results,resultscounty,age,resultsyear)"
   ]
  },
  {
   "cell_type": "code",
   "execution_count": null,
   "metadata": {},
   "outputs": [],
   "source": [
    "from random import choice\n",
    "\n",
    "class Person:\n",
    "  genders = ('Male', 'Female', 'Female')\n",
    "  def __init__(self, name):\n",
    "      self.name = name\n",
    "      self.gender = choice(Person.genders, 100)\n",
    "        print\n",
    "        "
   ]
  },
  {
   "cell_type": "code",
   "execution_count": null,
   "metadata": {},
   "outputs": [],
   "source": [
    "suicide_data = {[age], [county],[gender]}\n",
    "df = pd.dataframe(suicide_data)\n",
    "df"
   ]
  },
  {
   "cell_type": "code",
   "execution_count": null,
   "metadata": {},
   "outputs": [],
   "source": [
    "import pandas as pd\n",
    "\n",
    "data = (b, c, age)\n",
    "pd.DataFrame(data, columns=[\"Foo\", \"Bar\"])"
   ]
  },
  {
   "cell_type": "code",
   "execution_count": null,
   "metadata": {},
   "outputs": [],
   "source": [
    "import pandas as pd\n",
    "data = {'year':['2008', '2009', '2010', '2011', '2012', '2013', '2014', '2015', '2016', '2017', '2018'],'Age':[randint(15,70,100)]}\n",
    "df = pd.DataFrame(data, index=['rank1','rank2','rank3','rank4'])\n",
    "print(df)"
   ]
  },
  {
   "cell_type": "code",
   "execution_count": null,
   "metadata": {},
   "outputs": [],
   "source": [
    "#print the years used as the x values\n",
    "a"
   ]
  },
  {
   "cell_type": "code",
   "execution_count": null,
   "metadata": {},
   "outputs": [],
   "source": [
    "b"
   ]
  },
  {
   "cell_type": "code",
   "execution_count": null,
   "metadata": {},
   "outputs": [],
   "source": [
    "PrintTable(data, column_captions, column_widths, text_aligns).print()"
   ]
  },
  {
   "cell_type": "code",
   "execution_count": null,
   "metadata": {
    "collapsed": true
   },
   "outputs": [],
   "source": [
    "from IPython.core.interactiveshell import InteractiveShell\n",
    "InteractiveShell.ast_node_interactivity = \"all\""
   ]
  },
  {
   "cell_type": "code",
   "execution_count": null,
   "metadata": {},
   "outputs": [],
   "source": [
    "from pydataset import data\n",
    "male = data('male')\n",
    "show()"
   ]
  },
  {
   "cell_type": "code",
   "execution_count": null,
   "metadata": {
    "collapsed": true
   },
   "outputs": [],
   "source": [
    "import pandas as pd"
   ]
  },
  {
   "cell_type": "code",
   "execution_count": null,
   "metadata": {
    "scrolled": true
   },
   "outputs": [],
   "source": [
    "# Plot the best fit line.\n",
    "import matplotlib.pyplot as plt\n",
    "\n",
    "plt.plot(a, b, 'k.', label='Original data')\n",
    "plt.legend()\n",
    "plt.show()"
   ]
  },
  {
   "cell_type": "code",
   "execution_count": null,
   "metadata": {},
   "outputs": [],
   "source": [
    "import numpy as np\n",
    "import pandas as pd\n",
    "\n",
    "categories=('male','female')\n",
    "\n",
    "data = {\n",
    "            'suicide deaths':      np.random.randint(300,500, size=100), \n",
    "            'category':  np.random.choice(categories, 100),\n",
    "            'year':     (2008, 2009, 2010, 2011, 2012, 2013, 2014, 2015, 2016, 2017, 2018)\n",
    "       }\n",
    "\n",
    "df = pd.DataFrame(data)\n",
    "print(df)\n"
   ]
  },
  {
   "cell_type": "code",
   "execution_count": null,
   "metadata": {},
   "outputs": [],
   "source": [
    "x = a\n",
    "y = b\n",
    "\n",
    "x\n",
    "y"
   ]
  },
  {
   "cell_type": "code",
   "execution_count": null,
   "metadata": {
    "collapsed": true
   },
   "outputs": [],
   "source": [
    "# First calculate the average suicide rate of males in Ireland from the years 2008 to 2018.\n",
    "b_avg = np.mean(b)"
   ]
  },
  {
   "cell_type": "code",
   "execution_count": null,
   "metadata": {},
   "outputs": [],
   "source": [
    "#print average yearly suicide rate of males in Ireland\n",
    "b_avg"
   ]
  },
  {
   "cell_type": "code",
   "execution_count": null,
   "metadata": {},
   "outputs": [],
   "source": [
    "# First calculate the average suicide rate of females in Ireland from the years 2008 to 2018.\n",
    "c_avg = np.mean(c)\n",
    "\n",
    "#print average yearly suicide rate of females in Ireland\n",
    "c_avg"
   ]
  },
  {
   "cell_type": "code",
   "execution_count": null,
   "metadata": {
    "collapsed": true
   },
   "outputs": [],
   "source": [
    "import pandas as pd\n",
    "data = {'year':['Tom', 'Jack', 'Steve', 'Ricky'],'Age':[28,34,29,42]}\n",
    "df = pd.DataFrame(data, index=['rank1','rank2','rank3','rank4'])\n",
    "print df"
   ]
  },
  {
   "cell_type": "markdown",
   "metadata": {},
   "source": [
    "# References:\n",
    "\n",
    "https://www.youtube.com/watch?v=KzqSDvzOFNA\n",
    "https://data.gov.ie/dataset/suicide-death-rates-by-year-sex-and-statistic/resource/50013e7a-ec8d-4676-b966-77ba22a23a56\n",
    "https://stackoverflow.com/questions/43991548/when-defining-a-python-class-how-to-set-a-random-variable-in-it\n",
    "https://www.irishtimes.com/news/social-affairs/men-account-for-almost-80-of-suicides-recorded-in-state-1.3235494"
   ]
  }
 ],
 "metadata": {
  "kernelspec": {
   "display_name": "Python 3",
   "language": "python",
   "name": "python3"
  }
 },
 "nbformat": 4,
 "nbformat_minor": 2
}
